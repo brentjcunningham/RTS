{
  "cells": [
    {
      "cell_type": "raw",
      "metadata": {},
      "source": [
        "---\n",
        "title: \"Readiness to train scale\"\n",
        "---"
      ],
      "id": "2dbb4f27"
    },
    {
      "cell_type": "markdown",
      "metadata": {},
      "source": [
        "```{links}\n"
      ],
      "id": "8816fbcc"
    }
  ],
  "metadata": {
    "kernelspec": {
      "display_name": "Python 3",
      "language": "python",
      "name": "python3"
    }
  },
  "nbformat": 4,
  "nbformat_minor": 5
}